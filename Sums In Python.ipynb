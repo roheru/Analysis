{
 "metadata": {
  "name": "",
  "signature": "sha256:285fffecac8ac46ebc3c40243261991ad4a06dabf4cb42664318765a1f2bc7e2"
 },
 "nbformat": 3,
 "nbformat_minor": 0,
 "worksheets": [
  {
   "cells": [
    {
     "cell_type": "markdown",
     "metadata": {},
     "source": [
      "<center><b>INTRODUCTION TO DESIGN AND ANALYSIS ALGORITHMS </b></center>\n",
      "\n",
      "\n",
      "An <i>algorithm</i> is any well-defined computational procedure that takes some input  called <i> input instance </i>and produces some value or set values called <i>output</i>, defining sorting problem:\n",
      "\n",
      "<i><b>Sorting Problem</b></i><p>\n",
      "\n",
      "\n",
      "<b>Input</b>: &lt; $ a_{0}, a_{1}, a_{2}, a_{3}, ...., a_{n-1}, a_{n} $ &gt; \n",
      "\n",
      "<b>Ouput</b>:  A Permutation &lt; $a^{'}_{0}, a{'}_{1}, a{'}_{2}, a{'}_{3}, ...., a{'}_{n-1}, a{'}_{n} $ &gt; such as &lt; $a^{'}_{0} \\leq a{'}_{1} \\leq a{'}_{2} \\leq ... \\leq a{'}_{n}$ &gt;\n",
      "\n",
      "For example:\n",
      "\n",
      "\n",
      "<b>Input</b>: &lt; 3 , 2, 1, 4 &gt;\n",
      "\n",
      "<b>Ouput</b>: &lt; 1 , 2, 3, 4 &gt;\n",
      "\n",
      "For this task is necessary make a computational program in this we use Python Language, please see the next section."
     ]
    },
    {
     "cell_type": "markdown",
     "metadata": {},
     "source": [
      "<center><b>INTRODUCTION TO PYTHON LANGUAGE </b></center>\n",
      "\n",
      "<b>Create a simple function in python...</b>\n",
      "\n",
      "<b>def</b> &lt; name function &gt; ():\n",
      "\n",
      "&raquo; You should take care with identation...\n",
      "\n",
      "<b>print</b> function uses for print message, don't forget if you want print string you must use &quot; or &#39;"
     ]
    },
    {
     "cell_type": "code",
     "collapsed": false,
     "input": [
      "def MyFirstFunction():\n",
      "    print 'My primera funci\u00f3n de ejemplo'\n",
      "#ctrl + enter for execute cell console"
     ],
     "language": "python",
     "metadata": {},
     "outputs": [],
     "prompt_number": 1
    },
    {
     "cell_type": "markdown",
     "metadata": {},
     "source": [
      "<b>Calling the function in python</b>\n",
      "\n",
      "Suppose that you have create a function but you need call this function, how to do it?, is very simple dear reader.\n",
      "First step you should create the code function in python and call this function writing its name, please review the next example.."
     ]
    },
    {
     "cell_type": "code",
     "collapsed": false,
     "input": [
      "def MySecondFunction():\n",
      "    print 'My segunda funci\u00f3n de ejemplo'\n",
      "\n",
      "MySecondFunction()\n",
      "MySecondFunction()\n",
      "MySecondFunction()\n",
      "\n",
      "#ctrl + enter for execute cell console"
     ],
     "language": "python",
     "metadata": {},
     "outputs": [
      {
       "output_type": "stream",
       "stream": "stdout",
       "text": [
        "My segunda funci\u00f3n de ejemplo\n",
        "My segunda funci\u00f3n de ejemplo\n",
        "My segunda funci\u00f3n de ejemplo\n"
       ]
      }
     ],
     "prompt_number": 3
    },
    {
     "cell_type": "markdown",
     "metadata": {},
     "source": [
      "<b>Declaring function in Python with Parameters...</b>\n",
      "\n",
      "The next task as similar as simple function in python, just you should take into account the next structure\n",
      "\n",
      "<b>def</b> &lt; name function &gt; (&lt; first parameter &gt;,&lt; second parameter &gt;,...,&lt; n-th parameter &gt;):\n",
      "\n",
      "&raquo; You should take care with identation, however the kind declaration of variable is not important in this language, check the next example...\n",
      "\n",
      "And don't forget call this function sent its parameter and executing <b>ctrl + enter</b> command"
     ]
    },
    {
     "cell_type": "code",
     "collapsed": false,
     "input": [
      "def MyThirdFunctionWithOneParameter(parameter):\n",
      "    print parameter\n",
      "    \n",
      "MyThirdFunctionWithOneParameter(1)    \n",
      "MyThirdFunctionWithOneParameter(\"parametro\")\n",
      "MyThirdFunctionWithOneParameter(1234567)"
     ],
     "language": "python",
     "metadata": {},
     "outputs": [
      {
       "output_type": "stream",
       "stream": "stdout",
       "text": [
        "1\n",
        "parametro\n",
        "1234567\n"
       ]
      }
     ],
     "prompt_number": 9
    },
    {
     "cell_type": "code",
     "collapsed": false,
     "input": [
      "def MyFourthFunctionWithTwoParameter(parameter1,parameter2):\n",
      "    print parameter1+parameter2\n",
      "    \n",
      "MyFourthFunctionWithTwoParameter(1,2)    \n",
      "MyFourthFunctionWithTwoParameter(1234567,2)"
     ],
     "language": "python",
     "metadata": {},
     "outputs": [
      {
       "output_type": "stream",
       "stream": "stdout",
       "text": [
        "3\n",
        "1234569\n"
       ]
      }
     ],
     "prompt_number": 12
    },
    {
     "cell_type": "markdown",
     "metadata": {},
     "source": [
      "<b>Concatenating strings and numbers in python</b>\n",
      "\n",
      "For this task you should use the <b><i>str</i></b> function over number variable, <b><i>str</i></b> function allows convert number to string variable, check the next function\n"
     ]
    },
    {
     "cell_type": "code",
     "collapsed": false,
     "input": [
      "def MyFifthFunctionWithTwoParameter(parameter1,parameter2):\n",
      "    print parameter1+str(parameter2)\n",
      "    \n",
      "MyFifthFunctionWithTwoParameter(\"Hola \",2)    \n",
      "MyFifthFunctionWithTwoParameter(\"Cualquier mensaje \",123455)"
     ],
     "language": "python",
     "metadata": {},
     "outputs": [
      {
       "output_type": "stream",
       "stream": "stdout",
       "text": [
        "Hola 2\n",
        "Cualquier mensaje 123455\n"
       ]
      }
     ],
     "prompt_number": 14
    },
    {
     "cell_type": "markdown",
     "metadata": {},
     "source": [
      "<center><b>Repetitive Sentences in Python</b></center>\n",
      "\n",
      "<b>For in range</b>\n",
      "\n",
      "The repetitive structures in python is so easy to use and understand, for making the repetive sentence in Python you should check the next example:"
     ]
    },
    {
     "cell_type": "code",
     "collapsed": false,
     "input": [
      "def MyFirstCycle():\n",
      "    for i in range(10):\n",
      "        print i\n",
      "MyFirstCycle()"
     ],
     "language": "python",
     "metadata": {},
     "outputs": [
      {
       "output_type": "stream",
       "stream": "stdout",
       "text": [
        "0\n",
        "1\n",
        "2\n",
        "3\n",
        "4\n",
        "5\n",
        "6\n",
        "7\n",
        "8\n",
        "9\n"
       ]
      }
     ],
     "prompt_number": 16
    },
    {
     "cell_type": "markdown",
     "metadata": {},
     "source": [
      "<center><b>Summatories Using For in Range</b></center>\n",
      "\n",
      "If you want to sums the number from 1 to 10, I recommend to you uses for in range in this case, where this <b>sum</b> as represented by\n",
      "\n",
      "<center>$\\sum_{i=1}^{10}i = 1+2+3+...+9+10$</center>\n",
      "\n",
      "However you can represent this sums in Python, check...\n",
      "\n"
     ]
    },
    {
     "cell_type": "code",
     "collapsed": false,
     "input": [
      "def sumOnetoTen():\n",
      "    sums=0\n",
      "    for i in range(1,11):\n",
      "        sums=sums+i\n",
      "    print sums\n",
      "        \n",
      "sumOnetoTen()"
     ],
     "language": "python",
     "metadata": {},
     "outputs": [
      {
       "output_type": "stream",
       "stream": "stdout",
       "text": [
        "55\n"
       ]
      }
     ],
     "prompt_number": 20
    },
    {
     "cell_type": "markdown",
     "metadata": {},
     "source": [
      "If you want to sums the number from 1 to n, I recommend to you uses for in range in this case, where this <b>sum</b> as represented by\n",
      "\n",
      "<center>$\\sum_{i=1}^{n}i = 1+2+3+...+9+10+....+(n-1)+n$</center>\n",
      "\n",
      "However you can represent this sums in Python, check..."
     ]
    },
    {
     "cell_type": "code",
     "collapsed": false,
     "input": [
      "def sumOnetoN(n):\n",
      "    sums=0\n",
      "    for i in range(1,n+1):\n",
      "        sums=sums+i\n",
      "    print sums\n",
      "        \n",
      "sumOnetoN(1)\n",
      "sumOnetoN(10)\n",
      "sumOnetoN(100)"
     ],
     "language": "python",
     "metadata": {},
     "outputs": [
      {
       "output_type": "stream",
       "stream": "stdout",
       "text": [
        "1\n",
        "55\n",
        "5050\n"
       ]
      }
     ],
     "prompt_number": 21
    },
    {
     "cell_type": "markdown",
     "metadata": {},
     "source": [
      "Now check <b>double sums....</b>\n",
      "\n",
      "$\\sum_{i=2}^{n}\\sum_{j=1}^{m}(i+j)$\n",
      "\n",
      "$i=2, j=1,2,3,...,m$\n",
      "\n",
      "$i=3, j=1,2,3,...,m$\n",
      "\n",
      "$i=4, j=1,2,3,...,m$\n",
      "\n",
      "$.$\n",
      "$.$\n",
      "$.$\n",
      "\n",
      "$i=n, j=1,2,3,...,m$\n",
      "\n",
      "\n",
      "Now is important to understand how to program this task...\n"
     ]
    },
    {
     "cell_type": "code",
     "collapsed": false,
     "input": [
      "def doubleSum(n,m):\n",
      "    sums=0\n",
      "    for i in range(2,n+1):\n",
      "        for j in range(1,m+1):\n",
      "            sums=sums+(i+j)\n",
      "    print sums\n",
      "\n",
      "doubleSum(10,5)\n",
      "doubleSum(15,5)\n",
      "doubleSum(15,15)"
     ],
     "language": "python",
     "metadata": {},
     "outputs": [
      {
       "output_type": "stream",
       "stream": "stdout",
       "text": [
        "405\n",
        "805\n",
        "3465\n"
       ]
      }
     ],
     "prompt_number": 25
    }
   ],
   "metadata": {}
  }
 ]
}