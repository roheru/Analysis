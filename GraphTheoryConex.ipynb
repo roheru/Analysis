{
 "metadata": {
  "name": "",
  "signature": "sha256:63af1dd30874c842a557e6ef37def557322ce4ca3faddf1373d087f3fc228790"
 },
 "nbformat": 3,
 "nbformat_minor": 0,
 "worksheets": [
  {
   "cells": [
    {
     "cell_type": "code",
     "collapsed": true,
     "input": [
      "\n",
      "def construirGrafo(g,v1,v2):\n",
      "    if(v1 not in g):\n",
      "        g[v1]={}\n",
      "    (g[v1])[v2]=1\n",
      "    if(v2 not in g):\n",
      "        g[v2]={}\n",
      "    (g[v2])[v1]=1\n",
      "    return g\n",
      "    \n",
      "\n",
      "def recorrerDFS(grafo,nodo,colores):\n",
      "    colores[nodo]='EnVisita'\n",
      "    #print \"\\n Nodo Padre:\",source,\"\\n\"\n",
      "    contadorNodos=1\n",
      "    for vecino in grafo[nodo]:\n",
      "        #print \"Vecino:\",neighbour,\" estado\",state[neighbour],\"\\n\"\n",
      "        if(colores[vecino]==\"NoVisitado\"):\n",
      "            contadorNodos=contadorNodos+recorrerDFS(grafo,vecino,colores)\n",
      "    colores[nodo]=\"Terminado\"\n",
      "    return contadorNodos\n",
      "\n",
      "\n",
      "\n",
      "def contarComponenteConexas(grafo):\n",
      "    colores={}\n",
      "    contador=0\n",
      "    for vertice in grafo:\n",
      "        colores[vertice]='NoVisitado'\n",
      "        \n",
      "    for vertice in grafo:\n",
      "        if(colores[vertice]==\"NoVisitado\"):\n",
      "            recorrerDFS(grafo,vertice,colores)\n",
      "            contador=contador+1\n",
      "    return contador\n",
      "\n",
      "\n",
      "\n",
      "\n",
      "edges1 = [('v', 'r'), ('r', 's'), ('s', 'w'), ('w', 't'), \n",
      "         ('w', 'x'), ('t', 'x'), ('t', 'u'), ('x', 'y'),\n",
      "         ('u', 'y')]\n",
      "edges2 = [('v', 'r'), ('r', 's'), ('w', 't'), \n",
      "         ('w', 'x'), ('t', 'x'), ('t', 'u'), ('x', 'y'),\n",
      "         ('u', 'y')]\n",
      "edges3 = [('v', 'r'), ('r', 's'), ('w', 't'), \n",
      "         ('w', 'x'), ('t', 'x'),\n",
      "         ('u', 'y')]\n",
      "\n",
      "grafoUno = {}\n",
      "grafoDos = {}\n",
      "grafoTres = {}\n",
      "\n",
      "for v1, v2 in edges1:\n",
      "    construirGrafo(grafoUno, v1, v2)\n",
      "\n",
      "for v1, v2 in edges2:\n",
      "    construirGrafo(grafoDos, v1, v2)\n",
      "    \n",
      "for v1, v2 in edges3:\n",
      "    construirGrafo(grafoTres, v1, v2)\n",
      "\n",
      "    \n",
      "    \n",
      "print \"El n\u00famero de componentes conexas del grafo Uno:\",contarComponenteConexas(grafoUno)\n",
      "print \"El n\u00famero de componentes conexas del grafo Dos:\",contarComponenteConexas(grafoDos)\n",
      "print \"El n\u00famero de componentes conexas del grafo Tres:\",contarComponenteConexas(grafoTres)"
     ],
     "language": "python",
     "metadata": {},
     "outputs": [
      {
       "output_type": "stream",
       "stream": "stdout",
       "text": [
        "El n\u00famero de componentes conexas del grafo Uno: 1\n",
        "El n\u00famero de componentes conexas del grafo Dos: 2\n",
        "El n\u00famero de componentes conexas del grafo Tres: 3\n"
       ]
      }
     ],
     "prompt_number": 8
    }
   ],
   "metadata": {}
  }
 ]
}